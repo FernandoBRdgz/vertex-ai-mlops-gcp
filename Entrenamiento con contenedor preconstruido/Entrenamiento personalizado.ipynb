{
 "cells": [
  {
   "cell_type": "code",
   "execution_count": 1,
   "id": "6e4d0de2-5ce3-48c3-9008-4a4d722733f9",
   "metadata": {},
   "outputs": [],
   "source": [
    "# Import libraries\n",
    "from google.cloud import aiplatform"
   ]
  },
  {
   "cell_type": "code",
   "execution_count": 2,
   "id": "e6a522f9-fffc-4925-a4b7-d23e0c9ce850",
   "metadata": {},
   "outputs": [
    {
     "data": {
      "text/plain": [
       "'us-central1'"
      ]
     },
     "execution_count": 2,
     "metadata": {},
     "output_type": "execute_result"
    }
   ],
   "source": [
    "REGION = 'us-central1'\n",
    "REGION"
   ]
  },
  {
   "cell_type": "code",
   "execution_count": 3,
   "id": "1ba7ac35-0e19-48ef-97cb-9669d67cb717",
   "metadata": {},
   "outputs": [],
   "source": [
    "# Initialize connection\n",
    "aiplatform.init(location=REGION)"
   ]
  },
  {
   "cell_type": "code",
   "execution_count": 4,
   "id": "850197d6-b6c2-4f5a-a793-a0a224642f9d",
   "metadata": {},
   "outputs": [],
   "source": [
    "job = aiplatform.CustomPythonPackageTrainingJob(\n",
    "    display_name='stroke_model_sdk',\n",
    "    python_package_gcs_uri='gs://cloud-storage-demo-mlops/trained_models/trainer-0.1.tar.gz',\n",
    "    python_module_name='trainer.task',\n",
    "    container_uri='us-docker.pkg.dev/vertex-ai/training/scikit-learn-cpu.0-23:latest',\n",
    "    staging_bucket='cloud-storage-demo-mlops/trained_models'\n",
    ")"
   ]
  },
  {
   "cell_type": "code",
   "execution_count": 6,
   "id": "4833d1ff-5a5b-4f05-aa26-30b8d8c48d38",
   "metadata": {},
   "outputs": [
    {
     "name": "stdout",
     "output_type": "stream",
     "text": [
      "Training Output directory:\n",
      "gs://cloud-storage-demo-mlops/trained_models/aiplatform-custom-training-2023-03-05-23:07:36.708 \n",
      "View Training:\n",
      "https://console.cloud.google.com/ai/platform/locations/us-central1/training/8195339247683633152?project=374793628187\n",
      "View backing custom job:\n",
      "https://console.cloud.google.com/ai/platform/locations/us-central1/training/1851931211602067456?project=374793628187\n",
      "CustomPythonPackageTrainingJob projects/374793628187/locations/us-central1/trainingPipelines/8195339247683633152 current state:\n",
      "PipelineState.PIPELINE_STATE_RUNNING\n",
      "CustomPythonPackageTrainingJob projects/374793628187/locations/us-central1/trainingPipelines/8195339247683633152 current state:\n",
      "PipelineState.PIPELINE_STATE_RUNNING\n",
      "CustomPythonPackageTrainingJob projects/374793628187/locations/us-central1/trainingPipelines/8195339247683633152 current state:\n",
      "PipelineState.PIPELINE_STATE_RUNNING\n",
      "CustomPythonPackageTrainingJob projects/374793628187/locations/us-central1/trainingPipelines/8195339247683633152 current state:\n",
      "PipelineState.PIPELINE_STATE_RUNNING\n",
      "CustomPythonPackageTrainingJob run completed. Resource name: projects/374793628187/locations/us-central1/trainingPipelines/8195339247683633152\n",
      "Training did not produce a Managed Model returning None. Training Pipeline projects/374793628187/locations/us-central1/trainingPipelines/8195339247683633152 is not configured to upload a Model. Create the Training Pipeline with model_serving_container_image_uri and model_display_name passed in. Ensure that your training script saves to model to os.environ['AIP_MODEL_DIR'].\n",
      "CPU times: user 376 ms, sys: 67.7 ms, total: 444 ms\n",
      "Wall time: 2min 32s\n"
     ]
    }
   ],
   "source": [
    "%%time\n",
    "job.run(\n",
    "    replica_count=1,\n",
    "    machine_type='n1-standard-4',\n",
    "    args=['--data_gcs_path=gs://cloud-storage-demo-mlops/raw_datasets/healthcare-dataset-stroke-data.csv']\n",
    ")"
   ]
  }
 ],
 "metadata": {
  "environment": {
   "kernel": "python3",
   "name": "common-cpu.m103",
   "type": "gcloud",
   "uri": "gcr.io/deeplearning-platform-release/base-cpu:m103"
  },
  "kernelspec": {
   "display_name": "Python 3",
   "language": "python",
   "name": "python3"
  },
  "language_info": {
   "codemirror_mode": {
    "name": "ipython",
    "version": 3
   },
   "file_extension": ".py",
   "mimetype": "text/x-python",
   "name": "python",
   "nbconvert_exporter": "python",
   "pygments_lexer": "ipython3",
   "version": "3.7.12"
  }
 },
 "nbformat": 4,
 "nbformat_minor": 5
}
