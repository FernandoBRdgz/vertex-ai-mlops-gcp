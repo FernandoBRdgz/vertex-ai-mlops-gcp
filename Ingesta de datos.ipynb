{
 "cells": [
  {
   "cell_type": "code",
   "execution_count": 4,
   "id": "482ed9d0-d69a-4aac-9028-436a81da9042",
   "metadata": {},
   "outputs": [],
   "source": [
    "from google.cloud import storage\n",
    "from google.cloud import bigquery\n",
    "from google.cloud import aiplatform"
   ]
  },
  {
   "cell_type": "code",
   "execution_count": 5,
   "id": "761bb9de-338a-4dbb-aadd-d5fe4aee72d2",
   "metadata": {},
   "outputs": [
    {
     "data": {
      "text/plain": [
       "['vertex-ai-demo-mlops']"
      ]
     },
     "execution_count": 5,
     "metadata": {},
     "output_type": "execute_result"
    }
   ],
   "source": [
    "project = !gcloud config get-value project\n",
    "project"
   ]
  },
  {
   "cell_type": "code",
   "execution_count": 6,
   "id": "25cce7bf-7a78-4ebb-b70a-d6d56aba6b39",
   "metadata": {},
   "outputs": [
    {
     "data": {
      "text/plain": [
       "'vertex-ai-demo-mlops'"
      ]
     },
     "execution_count": 6,
     "metadata": {},
     "output_type": "execute_result"
    }
   ],
   "source": [
    "PROJECT_ID = project[0]\n",
    "PROJECT_ID"
   ]
  },
  {
   "cell_type": "code",
   "execution_count": 7,
   "id": "2fd88f7b-569a-48c1-bc79-df3b568630d7",
   "metadata": {},
   "outputs": [
    {
     "data": {
      "text/plain": [
       "'us-central1'"
      ]
     },
     "execution_count": 7,
     "metadata": {},
     "output_type": "execute_result"
    }
   ],
   "source": [
    "REGION = 'us-central1'\n",
    "REGION"
   ]
  },
  {
   "cell_type": "code",
   "execution_count": 8,
   "id": "70340bb0-a157-44ac-89a3-a788621373ec",
   "metadata": {},
   "outputs": [],
   "source": [
    "aiplatform.init(location=REGION)"
   ]
  },
  {
   "cell_type": "markdown",
   "id": "764222bb-baf0-4082-a3f9-0d99efd8e07c",
   "metadata": {},
   "source": [
    "### Google Cloud Storage"
   ]
  },
  {
   "cell_type": "code",
   "execution_count": 9,
   "id": "1c7a3ac5-8841-4e30-911d-d7fbc8e0cb06",
   "metadata": {},
   "outputs": [
    {
     "data": {
      "text/plain": [
       "google.cloud.storage.client.Client"
      ]
     },
     "execution_count": 9,
     "metadata": {},
     "output_type": "execute_result"
    }
   ],
   "source": [
    "gcs = storage.Client(project=PROJECT_ID)\n",
    "type(gcs)"
   ]
  },
  {
   "cell_type": "code",
   "execution_count": 15,
   "id": "1a717f56-a63a-4f79-a51c-474dff78bc25",
   "metadata": {},
   "outputs": [],
   "source": [
    "BUCKET = \"cloud-storage-demo-mlops\""
   ]
  },
  {
   "cell_type": "code",
   "execution_count": 16,
   "id": "3f8350c3-f0ad-4736-8779-dd9f876a8767",
   "metadata": {},
   "outputs": [
    {
     "data": {
      "text/plain": [
       "<Bucket: cloud-storage-demo-mlops>"
      ]
     },
     "execution_count": 16,
     "metadata": {},
     "output_type": "execute_result"
    }
   ],
   "source": [
    "gcs.lookup_bucket(BUCKET)"
   ]
  },
  {
   "cell_type": "code",
   "execution_count": 17,
   "id": "a81c2afb-0f21-423e-b771-9b3880c03799",
   "metadata": {},
   "outputs": [
    {
     "name": "stdout",
     "output_type": "stream",
     "text": [
      "Bucket already exist: cloud-storage-demo-mlops\n"
     ]
    }
   ],
   "source": [
    "if not gcs.lookup_bucket(BUCKET):\n",
    "    bucketDef = gcs.bucket(BUCKET)\n",
    "    bucket = gcs.create_bucket(bucketDef, project=PROJECT_ID, location=REGION)\n",
    "    print(f'Created Bucket: {gcs.lookup_bucket(bucket).name}')\n",
    "else:\n",
    "    bucketDef = gcs.bucket(BUCKET)\n",
    "    print(f'Bucket already exist: {bucketDef.name}')"
   ]
  },
  {
   "cell_type": "code",
   "execution_count": 18,
   "id": "500ee92e-854a-4ecd-a9b6-d11d2906796a",
   "metadata": {},
   "outputs": [
    {
     "name": "stdout",
     "output_type": "stream",
     "text": [
      "Creating TabularDataset\n",
      "Create TabularDataset backing LRO: projects/374793628187/locations/us-central1/datasets/5084640945115234304/operations/1550362866052235264\n",
      "TabularDataset created. Resource name: projects/374793628187/locations/us-central1/datasets/5084640945115234304\n",
      "To use this TabularDataset in another session:\n",
      "ds = aiplatform.TabularDataset('projects/374793628187/locations/us-central1/datasets/5084640945115234304')\n"
     ]
    }
   ],
   "source": [
    "# Define Google Cloud Storage source \n",
    "gcs_source = f\"gs://{BUCKET}/healthcare-dataset-stroke-data.csv\"\n",
    "\n",
    "# Define the dataset name\n",
    "dataset_display_name = 'diabetes_gcs'\n",
    "\n",
    "# Create the dataset inside Vertex AI\n",
    "create_dataset_task = aiplatform.TabularDataset.create(\n",
    "    display_name=dataset_display_name,\n",
    "    gcs_source=gcs_source\n",
    ")\n",
    "create_dataset_task.wait()"
   ]
  },
  {
   "cell_type": "code",
   "execution_count": 19,
   "id": "3b27addb-c19e-4acb-b363-126b4fe74753",
   "metadata": {},
   "outputs": [
    {
     "data": {
      "text/plain": [
       "<google.cloud.aiplatform.datasets.tabular_dataset.TabularDataset object at 0x7f8b99004fd0> \n",
       "resource name: projects/374793628187/locations/us-central1/datasets/5084640945115234304"
      ]
     },
     "execution_count": 19,
     "metadata": {},
     "output_type": "execute_result"
    }
   ],
   "source": [
    "# Get dataset\n",
    "dataset = aiplatform.TabularDataset(create_dataset_task.resource_name)\n",
    "dataset"
   ]
  },
  {
   "cell_type": "markdown",
   "id": "c4280721-b5b2-40c8-8854-016e1d52c2ed",
   "metadata": {},
   "source": [
    "### BigQuery"
   ]
  },
  {
   "cell_type": "code",
   "execution_count": 20,
   "id": "2cd13a36-58e1-45fe-9ba4-a55a29ff293f",
   "metadata": {},
   "outputs": [
    {
     "data": {
      "text/plain": [
       "google.cloud.bigquery.client.Client"
      ]
     },
     "execution_count": 20,
     "metadata": {},
     "output_type": "execute_result"
    }
   ],
   "source": [
    "bq = bigquery.Client(project=PROJECT_ID)\n",
    "type(bq)"
   ]
  },
  {
   "cell_type": "code",
   "execution_count": 21,
   "id": "eaca934a-609e-4f0d-a448-2b045fdeaa1c",
   "metadata": {},
   "outputs": [],
   "source": [
    "datasets = list(bq.list_datasets())\n",
    "for d in datasets:\n",
    "    print(d.dataset_id)"
   ]
  },
  {
   "cell_type": "code",
   "execution_count": 22,
   "id": "b123f83d-bf56-450f-b2d2-91ad50a90e82",
   "metadata": {},
   "outputs": [],
   "source": [
    "BQ_PROJECT = PROJECT_ID\n",
    "BQ_DATASET = 'healthcare'\n",
    "BQ_TABLE = 'stroke'"
   ]
  },
  {
   "cell_type": "code",
   "execution_count": 23,
   "id": "05a35e0c-1c7f-4ab1-9cd0-cf6590c80cde",
   "metadata": {},
   "outputs": [],
   "source": [
    "ds = bigquery.Dataset(f\"{BQ_PROJECT}.{BQ_DATASET}\")\n",
    "ds.location = REGION\n",
    "ds = bq.create_dataset(dataset=ds, exists_ok = True)"
   ]
  },
  {
   "cell_type": "code",
   "execution_count": 24,
   "id": "0da0a4d0-622c-4bd4-bcef-b516241adf7e",
   "metadata": {},
   "outputs": [
    {
     "name": "stdout",
     "output_type": "stream",
     "text": [
      "healthcare\n"
     ]
    }
   ],
   "source": [
    "datasets = list(bq.list_datasets())\n",
    "for d in datasets:\n",
    "    print(d.dataset_id)"
   ]
  },
  {
   "cell_type": "markdown",
   "id": "e707c1b8-8da1-4d23-962f-8a0e150b21eb",
   "metadata": {},
   "source": [
    "#### Crear tabla de BQ"
   ]
  },
  {
   "cell_type": "code",
   "execution_count": 25,
   "id": "5c648020-d21f-40d8-98c1-24fffedad66a",
   "metadata": {},
   "outputs": [],
   "source": [
    "from google.cloud.exceptions import NotFound"
   ]
  },
  {
   "cell_type": "code",
   "execution_count": 28,
   "id": "0d567011-63e2-438e-acf9-d77a0ed7a4fc",
   "metadata": {},
   "outputs": [],
   "source": [
    "file = \"raw_datasets/healthcare-dataset-stroke-data.csv\""
   ]
  },
  {
   "cell_type": "code",
   "execution_count": 29,
   "id": "e60bc3c4-5260-4298-8b32-c84fe12deb55",
   "metadata": {},
   "outputs": [
    {
     "name": "stdout",
     "output_type": "stream",
     "text": [
      "Creating Table ...\n",
      "Finished creating table: vertex-ai-demo-mlops.healthcare.stroke\n"
     ]
    }
   ],
   "source": [
    "try:\n",
    "    table = bq.get_table(f'{BQ_PROJECT}.{BQ_DATASET}.{BQ_TABLE}')\n",
    "    if table:\n",
    "        print(f'The table already exists: {BQ_PROJECT}.{BQ_DATASET}.{BQ_TABLE}')\n",
    "except NotFound as error:\n",
    "    print(f'Creating Table ...')\n",
    "    destination = bigquery.TableReference.from_string(f\"{BQ_PROJECT}.{BQ_DATASET}.{BQ_TABLE}\")\n",
    "    job_config = bigquery.LoadJobConfig(\n",
    "        write_disposition = 'WRITE_TRUNCATE',\n",
    "        source_format = bigquery.SourceFormat.CSV,\n",
    "        autodetect = True\n",
    "    )\n",
    "    job = bq.load_table_from_uri(f\"gs://{bucketDef.name}/{file}\", destination, job_config = job_config)\n",
    "    job.result()\n",
    "    print(f'Finished creating table: {BQ_PROJECT}.{BQ_DATASET}.{BQ_TABLE}')"
   ]
  },
  {
   "cell_type": "code",
   "execution_count": 31,
   "id": "728a1458-a812-4113-951f-93f156894286",
   "metadata": {},
   "outputs": [
    {
     "name": "stdout",
     "output_type": "stream",
     "text": [
      "Creating TabularDataset\n",
      "Create TabularDataset backing LRO: projects/374793628187/locations/us-central1/datasets/8050261299738705920/operations/967709664261177344\n",
      "TabularDataset created. Resource name: projects/374793628187/locations/us-central1/datasets/8050261299738705920\n",
      "To use this TabularDataset in another session:\n",
      "ds = aiplatform.TabularDataset('projects/374793628187/locations/us-central1/datasets/8050261299738705920')\n"
     ]
    }
   ],
   "source": [
    "# Define BigQuery source \n",
    "bq_source = 'bq://vertex-ai-demo-mlops.healthcare.stroke'\n",
    "\n",
    "# Define the dataset name\n",
    "dataset_display_name = 'diabetes_bq'\n",
    "\n",
    "# Create the dataset inside Vertex AI\n",
    "create_dataset_task = aiplatform.TabularDataset.create(\n",
    "    display_name=dataset_display_name,\n",
    "    bq_source=bq_source\n",
    ")\n",
    "create_dataset_task.wait()"
   ]
  },
  {
   "cell_type": "code",
   "execution_count": 32,
   "id": "952cbaee-bd71-493d-ad6f-dc3ea2db4152",
   "metadata": {},
   "outputs": [
    {
     "data": {
      "text/plain": [
       "<google.cloud.aiplatform.datasets.tabular_dataset.TabularDataset object at 0x7f8b992932d0> \n",
       "resource name: projects/374793628187/locations/us-central1/datasets/8050261299738705920"
      ]
     },
     "execution_count": 32,
     "metadata": {},
     "output_type": "execute_result"
    }
   ],
   "source": [
    "# Get dataset\n",
    "dataset = aiplatform.TabularDataset(create_dataset_task.resource_name)\n",
    "dataset"
   ]
  },
  {
   "cell_type": "code",
   "execution_count": 33,
   "id": "f5228295-67dd-4103-b4d7-485c678b26b5",
   "metadata": {},
   "outputs": [
    {
     "data": {
      "text/plain": [
       "google.cloud.aiplatform.datasets.tabular_dataset.TabularDataset"
      ]
     },
     "execution_count": 33,
     "metadata": {},
     "output_type": "execute_result"
    }
   ],
   "source": [
    "type(dataset)"
   ]
  },
  {
   "cell_type": "markdown",
   "id": "0556f438-97e2-4009-8f5d-aab977293749",
   "metadata": {},
   "source": [
    "### Lectura de Datos"
   ]
  },
  {
   "cell_type": "code",
   "execution_count": 35,
   "id": "539236f2-13c1-457d-b100-2d63b8c8f3b3",
   "metadata": {},
   "outputs": [
    {
     "name": "stdout",
     "output_type": "stream",
     "text": [
      "\n",
      "SELECT *\n",
      "FROM `vertex-ai-demo-mlops.healthcare.stroke`\n",
      "\n"
     ]
    }
   ],
   "source": [
    "query = f\"\"\"\n",
    "SELECT *\n",
    "FROM `{BQ_PROJECT}.{BQ_DATASET}.{BQ_TABLE}`\n",
    "\"\"\"\n",
    "print(query)"
   ]
  },
  {
   "cell_type": "code",
   "execution_count": 36,
   "id": "1e46ff20-ebfe-45fd-89e5-2a73474d125b",
   "metadata": {},
   "outputs": [
    {
     "data": {
      "text/plain": [
       "(5110, 12)"
      ]
     },
     "execution_count": 36,
     "metadata": {},
     "output_type": "execute_result"
    }
   ],
   "source": [
    "df = bq.query(query=query).to_dataframe()\n",
    "df.shape"
   ]
  },
  {
   "cell_type": "code",
   "execution_count": 38,
   "id": "2929612f-3c65-4425-9242-9ee2288e376b",
   "metadata": {},
   "outputs": [
    {
     "data": {
      "text/html": [
       "<div>\n",
       "<style scoped>\n",
       "    .dataframe tbody tr th:only-of-type {\n",
       "        vertical-align: middle;\n",
       "    }\n",
       "\n",
       "    .dataframe tbody tr th {\n",
       "        vertical-align: top;\n",
       "    }\n",
       "\n",
       "    .dataframe thead th {\n",
       "        text-align: right;\n",
       "    }\n",
       "</style>\n",
       "<table border=\"1\" class=\"dataframe\">\n",
       "  <thead>\n",
       "    <tr style=\"text-align: right;\">\n",
       "      <th></th>\n",
       "      <th>id</th>\n",
       "      <th>gender</th>\n",
       "      <th>age</th>\n",
       "      <th>hypertension</th>\n",
       "      <th>heart_disease</th>\n",
       "      <th>ever_married</th>\n",
       "      <th>work_type</th>\n",
       "      <th>Residence_type</th>\n",
       "      <th>avg_glucose_level</th>\n",
       "      <th>bmi</th>\n",
       "      <th>smoking_status</th>\n",
       "      <th>stroke</th>\n",
       "    </tr>\n",
       "  </thead>\n",
       "  <tbody>\n",
       "    <tr>\n",
       "      <th>0</th>\n",
       "      <td>64128</td>\n",
       "      <td>Male</td>\n",
       "      <td>10.0</td>\n",
       "      <td>0</td>\n",
       "      <td>0</td>\n",
       "      <td>False</td>\n",
       "      <td>children</td>\n",
       "      <td>Urban</td>\n",
       "      <td>63.08</td>\n",
       "      <td>20.5</td>\n",
       "      <td>smokes</td>\n",
       "      <td>0</td>\n",
       "    </tr>\n",
       "    <tr>\n",
       "      <th>1</th>\n",
       "      <td>4833</td>\n",
       "      <td>Female</td>\n",
       "      <td>12.0</td>\n",
       "      <td>0</td>\n",
       "      <td>0</td>\n",
       "      <td>False</td>\n",
       "      <td>children</td>\n",
       "      <td>Rural</td>\n",
       "      <td>207.45</td>\n",
       "      <td>25.4</td>\n",
       "      <td>smokes</td>\n",
       "      <td>0</td>\n",
       "    </tr>\n",
       "    <tr>\n",
       "      <th>2</th>\n",
       "      <td>42821</td>\n",
       "      <td>Female</td>\n",
       "      <td>13.0</td>\n",
       "      <td>0</td>\n",
       "      <td>0</td>\n",
       "      <td>False</td>\n",
       "      <td>Private</td>\n",
       "      <td>Rural</td>\n",
       "      <td>60.69</td>\n",
       "      <td>24</td>\n",
       "      <td>smokes</td>\n",
       "      <td>0</td>\n",
       "    </tr>\n",
       "    <tr>\n",
       "      <th>3</th>\n",
       "      <td>37395</td>\n",
       "      <td>Female</td>\n",
       "      <td>16.0</td>\n",
       "      <td>0</td>\n",
       "      <td>0</td>\n",
       "      <td>False</td>\n",
       "      <td>Private</td>\n",
       "      <td>Urban</td>\n",
       "      <td>63.63</td>\n",
       "      <td>20</td>\n",
       "      <td>smokes</td>\n",
       "      <td>0</td>\n",
       "    </tr>\n",
       "    <tr>\n",
       "      <th>4</th>\n",
       "      <td>63312</td>\n",
       "      <td>Male</td>\n",
       "      <td>16.0</td>\n",
       "      <td>0</td>\n",
       "      <td>0</td>\n",
       "      <td>False</td>\n",
       "      <td>Private</td>\n",
       "      <td>Urban</td>\n",
       "      <td>80.55</td>\n",
       "      <td>23.5</td>\n",
       "      <td>smokes</td>\n",
       "      <td>0</td>\n",
       "    </tr>\n",
       "  </tbody>\n",
       "</table>\n",
       "</div>"
      ],
      "text/plain": [
       "      id  gender   age  hypertension  heart_disease  ever_married work_type  \\\n",
       "0  64128    Male  10.0             0              0         False  children   \n",
       "1   4833  Female  12.0             0              0         False  children   \n",
       "2  42821  Female  13.0             0              0         False   Private   \n",
       "3  37395  Female  16.0             0              0         False   Private   \n",
       "4  63312    Male  16.0             0              0         False   Private   \n",
       "\n",
       "  Residence_type  avg_glucose_level   bmi smoking_status  stroke  \n",
       "0          Urban              63.08  20.5         smokes       0  \n",
       "1          Rural             207.45  25.4         smokes       0  \n",
       "2          Rural              60.69    24         smokes       0  \n",
       "3          Urban              63.63    20         smokes       0  \n",
       "4          Urban              80.55  23.5         smokes       0  "
      ]
     },
     "execution_count": 38,
     "metadata": {},
     "output_type": "execute_result"
    }
   ],
   "source": [
    "df.head()"
   ]
  },
  {
   "cell_type": "code",
   "execution_count": null,
   "id": "9a601422-ea3f-4239-b658-8dd855549b49",
   "metadata": {},
   "outputs": [],
   "source": []
  }
 ],
 "metadata": {
  "environment": {
   "kernel": "python3",
   "name": "common-cpu.m103",
   "type": "gcloud",
   "uri": "gcr.io/deeplearning-platform-release/base-cpu:m103"
  },
  "kernelspec": {
   "display_name": "Python 3",
   "language": "python",
   "name": "python3"
  },
  "language_info": {
   "codemirror_mode": {
    "name": "ipython",
    "version": 3
   },
   "file_extension": ".py",
   "mimetype": "text/x-python",
   "name": "python",
   "nbconvert_exporter": "python",
   "pygments_lexer": "ipython3",
   "version": "3.7.12"
  }
 },
 "nbformat": 4,
 "nbformat_minor": 5
}
