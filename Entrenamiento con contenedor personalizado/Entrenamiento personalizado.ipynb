{
 "cells": [
  {
   "cell_type": "code",
   "execution_count": 1,
   "id": "8a8f6445-de15-412c-9ed6-afb7d0394ecb",
   "metadata": {},
   "outputs": [],
   "source": [
    "# Import libraries\n",
    "from google.cloud import aiplatform"
   ]
  },
  {
   "cell_type": "code",
   "execution_count": 2,
   "id": "523034ff-cd7a-42e4-9791-0310baf8d074",
   "metadata": {},
   "outputs": [
    {
     "data": {
      "text/plain": [
       "'us-central1'"
      ]
     },
     "execution_count": 2,
     "metadata": {},
     "output_type": "execute_result"
    }
   ],
   "source": [
    "REGION = 'us-central1'\n",
    "REGION"
   ]
  },
  {
   "cell_type": "code",
   "execution_count": 3,
   "id": "0e6fce09-63c9-4c50-918a-64a02cf56674",
   "metadata": {},
   "outputs": [],
   "source": [
    "# Initialize connection\n",
    "aiplatform.init(location=REGION)"
   ]
  },
  {
   "cell_type": "code",
   "execution_count": 4,
   "id": "19ab2a6d-3c44-4b30-849b-4c77bc8665c4",
   "metadata": {},
   "outputs": [],
   "source": [
    "job = aiplatform.CustomContainerTrainingJob(\n",
    "    display_name='custom_stroke_model_sdk',\n",
    "    container_uri='us-central1-docker.pkg.dev/vertex-ai-demo-mlops/docker-model-stroke/stroke_model@sha256:76489fde69d3883a2a01fcbf1a66a65180bda59b4e6bcb9f54482aa44f2237e5',\n",
    "    staging_bucket='cloud-storage-demo-mlops/trained_models'\n",
    ")"
   ]
  },
  {
   "cell_type": "code",
   "execution_count": 5,
   "id": "7aa8cebc-3063-4bb5-a183-030341581b6e",
   "metadata": {},
   "outputs": [
    {
     "name": "stdout",
     "output_type": "stream",
     "text": [
      "Training Output directory:\n",
      "gs://cloud-storage-demo-mlops/trained_models/aiplatform-custom-training-2023-03-06-02:29:40.602 \n",
      "View Training:\n",
      "https://console.cloud.google.com/ai/platform/locations/us-central1/training/151558469479038976?project=374793628187\n",
      "CustomContainerTrainingJob projects/374793628187/locations/us-central1/trainingPipelines/151558469479038976 current state:\n",
      "PipelineState.PIPELINE_STATE_RUNNING\n",
      "View backing custom job:\n",
      "https://console.cloud.google.com/ai/platform/locations/us-central1/training/7789927320290066432?project=374793628187\n",
      "CustomContainerTrainingJob projects/374793628187/locations/us-central1/trainingPipelines/151558469479038976 current state:\n",
      "PipelineState.PIPELINE_STATE_RUNNING\n",
      "CustomContainerTrainingJob projects/374793628187/locations/us-central1/trainingPipelines/151558469479038976 current state:\n",
      "PipelineState.PIPELINE_STATE_RUNNING\n",
      "CustomContainerTrainingJob projects/374793628187/locations/us-central1/trainingPipelines/151558469479038976 current state:\n",
      "PipelineState.PIPELINE_STATE_RUNNING\n",
      "CustomContainerTrainingJob run completed. Resource name: projects/374793628187/locations/us-central1/trainingPipelines/151558469479038976\n",
      "Training did not produce a Managed Model returning None. Training Pipeline projects/374793628187/locations/us-central1/trainingPipelines/151558469479038976 is not configured to upload a Model. Create the Training Pipeline with model_serving_container_image_uri and model_display_name passed in. Ensure that your training script saves to model to os.environ['AIP_MODEL_DIR'].\n",
      "CPU times: user 256 ms, sys: 42.3 ms, total: 299 ms\n",
      "Wall time: 1min 36s\n"
     ]
    }
   ],
   "source": [
    "%%time\n",
    "job.run(\n",
    "    replica_count=1,\n",
    "    machine_type='n1-standard-4',\n",
    "    args=['--data_gcs_path=gs://cloud-storage-demo-mlops/raw_datasets/healthcare-dataset-stroke-data.csv']\n",
    ")"
   ]
  }
 ],
 "metadata": {
  "environment": {
   "kernel": "python3",
   "name": "common-cpu.m103",
   "type": "gcloud",
   "uri": "gcr.io/deeplearning-platform-release/base-cpu:m103"
  },
  "kernelspec": {
   "display_name": "Python 3",
   "language": "python",
   "name": "python3"
  },
  "language_info": {
   "codemirror_mode": {
    "name": "ipython",
    "version": 3
   },
   "file_extension": ".py",
   "mimetype": "text/x-python",
   "name": "python",
   "nbconvert_exporter": "python",
   "pygments_lexer": "ipython3",
   "version": "3.7.12"
  }
 },
 "nbformat": 4,
 "nbformat_minor": 5
}
